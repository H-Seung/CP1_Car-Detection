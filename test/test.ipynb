{
 "cells": [
  {
   "cell_type": "code",
   "execution_count": 1,
   "metadata": {},
   "outputs": [
    {
     "data": {
      "text/plain": [
       "'c:\\\\Users\\\\LG\\\\Desktop\\\\AI 부트캠프\\\\CP 1\\\\AI_16_HanSeungHee_CP1_DS\\\\test'"
      ]
     },
     "execution_count": 1,
     "metadata": {},
     "output_type": "execute_result"
    }
   ],
   "source": [
    "# vs code 에서 주피터노트북 파일을 실행하려면 'ipynb kernel' extension 설치 필요\n",
    "%pwd"
   ]
  },
  {
   "cell_type": "code",
   "execution_count": 2,
   "metadata": {},
   "outputs": [
    {
     "name": "stdout",
     "output_type": "stream",
     "text": [
      "c:\\Users\\LG\\Desktop\\AI 부트캠프\\CP 1\\AI_16_HanSeungHee_CP1_DS\n"
     ]
    }
   ],
   "source": [
    "import os\n",
    "\n",
    "os.chdir(os.path.abspath(os.path.join(os.path.abspath(''), os.pardir)))\n",
    "print(os.getcwd())"
   ]
  },
  {
   "cell_type": "code",
   "execution_count": 3,
   "metadata": {},
   "outputs": [
    {
     "data": {
      "text/plain": [
       "{'model_path': './models/best.onnx',\n",
       " 'INPUT_WIDTH': 832,\n",
       " 'INPUT_HEIGHT': 832,\n",
       " 'CONF_THRESHOLD': 0.4,\n",
       " 'SCORE_THRESHOLD': 0.5,\n",
       " 'NMS_THRESHOLD': 0.45,\n",
       " 'labels': {0: '적재불량', 1: '정상차량'}}"
      ]
     },
     "execution_count": 3,
     "metadata": {},
     "output_type": "execute_result"
    }
   ],
   "source": [
    "from utils.detection import Detection\n",
    "\n",
    "model_path = './models/best.onnx'\n",
    "d = Detection(model_path)\n",
    "d.__dict__"
   ]
  },
  {
   "cell_type": "code",
   "execution_count": 4,
   "metadata": {},
   "outputs": [
    {
     "name": "stdout",
     "output_type": "stream",
     "text": [
      "총 Frame 수: 3\n"
     ]
    },
    {
     "name": "stderr",
     "output_type": "stream",
     "text": [
      "4it [00:01,  2.23it/s]                       \n"
     ]
    }
   ],
   "source": [
    "input_path = './data/sample2.mp4'\n",
    "output_path = './results/output2.mp4'\n",
    "d.detect(input_path, output_path)"
   ]
  },
  {
   "cell_type": "code",
   "execution_count": 5,
   "metadata": {},
   "outputs": [
    {
     "name": "stdout",
     "output_type": "stream",
     "text": [
      "총 Frame 수: 915\n"
     ]
    },
    {
     "name": "stderr",
     "output_type": "stream",
     "text": [
      "916it [16:07,  1.06s/it]                         \n"
     ]
    },
    {
     "name": "stdout",
     "output_type": "stream",
     "text": [
      "총 Frame 수: 3\n"
     ]
    },
    {
     "name": "stderr",
     "output_type": "stream",
     "text": [
      "4it [00:01,  2.59it/s]                       \n"
     ]
    }
   ],
   "source": [
    "input_path = ['./data/sample.mp4',\n",
    "              './data/sample2.mp4',\n",
    "              './data/A01_B02_C00_D01_0703_E08_F03_554_1.jpg',\n",
    "              './data/A01_B02_C00_D01_0703_E08_F03_568_3.jpg']\n",
    "output_path = ['./results/output.mp4',\n",
    "               './results/output2.mp4',\n",
    "               './results/img_554.jpg',\n",
    "               './results/img_568.jpg']\n",
    "\n",
    "# 이미지 window창 출력 - key입력시 종료\n",
    "for inp, out in zip(input_path, output_path):\n",
    "    d.detect(inp, out)"
   ]
  }
 ],
 "metadata": {
  "kernelspec": {
   "display_name": "cp1",
   "language": "python",
   "name": "python3"
  },
  "language_info": {
   "codemirror_mode": {
    "name": "ipython",
    "version": 3
   },
   "file_extension": ".py",
   "mimetype": "text/x-python",
   "name": "python",
   "nbconvert_exporter": "python",
   "pygments_lexer": "ipython3",
   "version": "3.8.16"
  },
  "orig_nbformat": 4
 },
 "nbformat": 4,
 "nbformat_minor": 2
}
